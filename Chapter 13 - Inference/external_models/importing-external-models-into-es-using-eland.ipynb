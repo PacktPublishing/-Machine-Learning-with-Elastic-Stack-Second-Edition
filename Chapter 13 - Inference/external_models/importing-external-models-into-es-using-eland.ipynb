{
 "cells": [
  {
   "cell_type": "markdown",
   "id": "imposed-street",
   "metadata": {},
   "source": [
    "## Importing External Models into Elasticsearch using Eland"
   ]
  },
  {
   "cell_type": "code",
   "execution_count": 1,
   "id": "engaging-morgan",
   "metadata": {},
   "outputs": [],
   "source": [
    "import eland as ed\n",
    "import numpy as np\n",
    "from elasticsearch import Elasticsearch"
   ]
  },
  {
   "cell_type": "code",
   "execution_count": 25,
   "id": "everyday-store",
   "metadata": {},
   "outputs": [],
   "source": [
    "ES_URL = \"insert your own ES URL here\"\n",
    "ES_USERNAME = \"insert your username\"\n",
    "ES_PASSWORD = \"insert your password\" "
   ]
  },
  {
   "cell_type": "code",
   "execution_count": 28,
   "id": "vocational-breed",
   "metadata": {},
   "outputs": [],
   "source": [
    "es_client = Elasticsearch(ES_URL, http_auth=(ES_USERNAME, ES_PASSWORD))"
   ]
  },
  {
   "cell_type": "markdown",
   "id": "intermediate-minister",
   "metadata": {},
   "source": [
    "## Training a Decision Tree using Scikit-Learn"
   ]
  },
  {
   "cell_type": "code",
   "execution_count": 4,
   "id": "sixth-queensland",
   "metadata": {},
   "outputs": [],
   "source": [
    "# import a variation of the breast cancer dataset we have been using in earlier chapters\n",
    "from sklearn.datasets import load_breast_cancer\n",
    "\n",
    "# import the function that trains a DecisionTreeClassifier\n",
    "from sklearn.tree import DecisionTreeClassifier\n",
    "\n",
    "# import a helper function to generate the test/train split\n",
    "from sklearn.model_selection import train_test_split"
   ]
  },
  {
   "cell_type": "code",
   "execution_count": 5,
   "id": "outside-small",
   "metadata": {},
   "outputs": [],
   "source": [
    "# let's load the dataset and store the datapoints in the variable X and the class labels in the variable y\n",
    "X, y = load_breast_cancer(return_X_y=True)"
   ]
  },
  {
   "cell_type": "code",
   "execution_count": 6,
   "id": "consolidated-spirit",
   "metadata": {},
   "outputs": [
    {
     "data": {
      "text/plain": [
       "array([1.799e+01, 1.038e+01, 1.228e+02, 1.001e+03, 1.184e-01, 2.776e-01,\n",
       "       3.001e-01, 1.471e-01, 2.419e-01, 7.871e-02, 1.095e+00, 9.053e-01,\n",
       "       8.589e+00, 1.534e+02, 6.399e-03, 4.904e-02, 5.373e-02, 1.587e-02,\n",
       "       3.003e-02, 6.193e-03, 2.538e+01, 1.733e+01, 1.846e+02, 2.019e+03,\n",
       "       1.622e-01, 6.656e-01, 7.119e-01, 2.654e-01, 4.601e-01, 1.189e-01])"
      ]
     },
     "execution_count": 6,
     "metadata": {},
     "output_type": "execute_result"
    }
   ],
   "source": [
    "# in contrast with Elasticsearch, features and labels are stored in separate variables not the same document\n",
    "\n",
    "# a sample entry in the matrix represented by variable X\n",
    "\n",
    "X[0]"
   ]
  },
  {
   "cell_type": "code",
   "execution_count": 7,
   "id": "egyptian-collective",
   "metadata": {},
   "outputs": [
    {
     "data": {
      "text/plain": [
       "0"
      ]
     },
     "execution_count": 7,
     "metadata": {},
     "output_type": "execute_result"
    }
   ],
   "source": [
    "# a sample entry in the matrix represented by the variable y\n",
    "\n",
    "y[0]"
   ]
  },
  {
   "cell_type": "code",
   "execution_count": 8,
   "id": "electrical-scotland",
   "metadata": {},
   "outputs": [],
   "source": [
    "# while Elasticsearch performs the train/test split for us during the training process\n",
    "# in scikit-learn, we have to perform this step manually using the train_test_split function \n",
    "\n",
    "X_train, X_test, y_train, y_test = train_test_split(X,y, random_state=12345)"
   ]
  },
  {
   "cell_type": "code",
   "execution_count": 9,
   "id": "satisfied-turtle",
   "metadata": {},
   "outputs": [],
   "source": [
    "# now, let's create the decision tree classifier\n",
    "\n",
    "dec_tree = DecisionTreeClassifier(random_state=12345).fit(X_train, y_train)\n"
   ]
  },
  {
   "cell_type": "code",
   "execution_count": 10,
   "id": "suburban-impact",
   "metadata": {},
   "outputs": [
    {
     "data": {
      "text/plain": [
       "array([1])"
      ]
     },
     "execution_count": 10,
     "metadata": {},
     "output_type": "execute_result"
    }
   ],
   "source": [
    "# we can now use this trained model to predict which class the datapoints in our X_test set belong to\n",
    "# for example, \n",
    "\n",
    "dec_tree.predict([X_test[0]])"
   ]
  },
  {
   "cell_type": "code",
   "execution_count": 11,
   "id": "legislative-digit",
   "metadata": {},
   "outputs": [
    {
     "data": {
      "text/plain": [
       "1"
      ]
     },
     "execution_count": 11,
     "metadata": {},
     "output_type": "execute_result"
    }
   ],
   "source": [
    "# let's check to see if this matches the actual class label\n",
    "\n",
    "y_test[0]"
   ]
  },
  {
   "cell_type": "markdown",
   "id": "ranging-proposal",
   "metadata": {},
   "source": [
    "## Importing a model into Elasticsearch"
   ]
  },
  {
   "cell_type": "code",
   "execution_count": 12,
   "id": "million-soundtrack",
   "metadata": {},
   "outputs": [],
   "source": [
    "# import the required eland class\n",
    "from eland.ml import MLModel"
   ]
  },
  {
   "cell_type": "markdown",
   "id": "falling-suspect",
   "metadata": {},
   "source": [
    "### Get the feature names"
   ]
  },
  {
   "cell_type": "code",
   "execution_count": 18,
   "id": "pleased-narrow",
   "metadata": {},
   "outputs": [],
   "source": [
    "data = load_breast_cancer()\n",
    "feature_names = data.feature_names"
   ]
  },
  {
   "cell_type": "code",
   "execution_count": 20,
   "id": "composed-jacob",
   "metadata": {},
   "outputs": [
    {
     "data": {
      "text/plain": [
       "array(['mean radius', 'mean texture', 'mean perimeter', 'mean area',\n",
       "       'mean smoothness', 'mean compactness', 'mean concavity',\n",
       "       'mean concave points', 'mean symmetry', 'mean fractal dimension',\n",
       "       'radius error', 'texture error', 'perimeter error', 'area error',\n",
       "       'smoothness error', 'compactness error', 'concavity error',\n",
       "       'concave points error', 'symmetry error',\n",
       "       'fractal dimension error', 'worst radius', 'worst texture',\n",
       "       'worst perimeter', 'worst area', 'worst smoothness',\n",
       "       'worst compactness', 'worst concavity', 'worst concave points',\n",
       "       'worst symmetry', 'worst fractal dimension'], dtype='<U23')"
      ]
     },
     "execution_count": 20,
     "metadata": {},
     "output_type": "execute_result"
    }
   ],
   "source": [
    "feature_names"
   ]
  },
  {
   "cell_type": "code",
   "execution_count": 21,
   "id": "hollywood-graph",
   "metadata": {},
   "outputs": [],
   "source": [
    "model_id = \"external-model_breast-cancer-decision-tree\""
   ]
  },
  {
   "cell_type": "code",
   "execution_count": 33,
   "id": "looking-patent",
   "metadata": {},
   "outputs": [],
   "source": [
    "es_model = MLModel.import_model(\n",
    "    es_client,\n",
    "    model_id=model_id,\n",
    "    model=dec_tree,\n",
    "    feature_names=list(feature_names),\n",
    "    es_if_exists='replace'\n",
    ")"
   ]
  },
  {
   "cell_type": "code",
   "execution_count": 34,
   "id": "continuous-chinese",
   "metadata": {},
   "outputs": [
    {
     "data": {
      "text/plain": [
       "array([1])"
      ]
     },
     "execution_count": 34,
     "metadata": {},
     "output_type": "execute_result"
    }
   ],
   "source": [
    "es_model.predict(X_test[0])"
   ]
  }
 ],
 "metadata": {
  "kernelspec": {
   "display_name": "Python 3",
   "language": "python",
   "name": "python3"
  },
  "language_info": {
   "codemirror_mode": {
    "name": "ipython",
    "version": 3
   },
   "file_extension": ".py",
   "mimetype": "text/x-python",
   "name": "python",
   "nbconvert_exporter": "python",
   "pygments_lexer": "ipython3",
   "version": "3.6.3"
  }
 },
 "nbformat": 4,
 "nbformat_minor": 5
}
